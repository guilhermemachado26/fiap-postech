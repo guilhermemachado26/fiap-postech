{
 "cells": [
  {
   "cell_type": "code",
   "execution_count": 2,
   "metadata": {},
   "outputs": [
    {
     "name": "stdout",
     "output_type": "stream",
     "text": [
      "Collecting polars\n",
      "  Downloading polars-1.7.0-cp38-abi3-macosx_11_0_arm64.whl.metadata (14 kB)\n",
      "Downloading polars-1.7.0-cp38-abi3-macosx_11_0_arm64.whl (27.2 MB)\n",
      "\u001b[2K   \u001b[90m━━━━━━━━━━━━━━━━━━━━━━━━━━━━━━━━━━━━━━━━\u001b[0m \u001b[32m27.2/27.2 MB\u001b[0m \u001b[31m64.6 MB/s\u001b[0m eta \u001b[36m0:00:00\u001b[0ma \u001b[36m0:00:01\u001b[0m\n",
      "\u001b[?25hInstalling collected packages: polars\n",
      "Successfully installed polars-1.7.0\n"
     ]
    }
   ],
   "source": [
    "\"\"\"\n",
    "Install the dependencies.\n",
    "\"\"\"\n",
    "\n",
    "!pip install polars"
   ]
  },
  {
   "cell_type": "code",
   "execution_count": 1,
   "metadata": {},
   "outputs": [],
   "source": [
    "\"\"\"\n",
    "Read the JSON file and convert it to a CSV with Title and Content columns.\n",
    "\"\"\"\n",
    "\n",
    "import json\n",
    "import csv\n",
    "\n",
    "input_file = 'datasets/trn.json' \n",
    "output_file = 'datasets/trn_output.csv'\n",
    "\n",
    "with open(input_file, 'r') as f_in, open(output_file, 'w', newline='', encoding='utf-8') as f_out:\n",
    "    writer = csv.writer(f_out)\n",
    "    writer.writerow(['title', 'content'])\n",
    "    \n",
    "    for line in f_in:\n",
    "        json_object = json.loads(line)\n",
    "        title = json_object.get('title', '')\n",
    "        content = json_object.get('content', '')\n",
    "        writer.writerow([title, content])\n"
   ]
  },
  {
   "cell_type": "code",
   "execution_count": 2,
   "metadata": {},
   "outputs": [
    {
     "data": {
      "text/html": [
       "<div><style>\n",
       ".dataframe > thead > tr,\n",
       ".dataframe > tbody > tr {\n",
       "  text-align: right;\n",
       "  white-space: pre-wrap;\n",
       "}\n",
       "</style>\n",
       "<small>shape: (2_248_619, 2)</small><table border=\"1\" class=\"dataframe\"><thead><tr><th>title</th><th>content</th></tr><tr><td>str</td><td>str</td></tr></thead><tbody><tr><td>&quot;Girls Ballet Tutu Neon Pink&quot;</td><td>&quot;High quality 3 layer ballet tu…</td></tr><tr><td>&quot;Adult Ballet Tutu Yellow&quot;</td><td>null</td></tr><tr><td>&quot;The Way Things Work: An Illust…</td><td>null</td></tr><tr><td>&quot;Mog&#x27;s Kittens&quot;</td><td>&quot;Judith Kerr&amp;#8217;s best&amp;#8211…</td></tr><tr><td>&quot;Misty of Chincoteague&quot;</td><td>null</td></tr><tr><td>&hellip;</td><td>&hellip;</td></tr><tr><td>null</td><td>&quot;Enhance your gaming experience…</td></tr><tr><td>null</td><td>&quot;Charge both of your PS4 contro…</td></tr><tr><td>&quot;Apache Paracord Type III 7 Str…</td><td>null</td></tr><tr><td>&quot;Cont  Removable Paper Label&quot;</td><td>&quot;Continuous Length Removable Pa…</td></tr><tr><td>&quot;1/2&amp;quot;  Round Paper Labels&quot;</td><td>&quot;0.5&quot; - Diameter - 1200 Label(s…</td></tr></tbody></table></div>"
      ],
      "text/plain": [
       "shape: (2_248_619, 2)\n",
       "┌─────────────────────────────────┬─────────────────────────────────┐\n",
       "│ title                           ┆ content                         │\n",
       "│ ---                             ┆ ---                             │\n",
       "│ str                             ┆ str                             │\n",
       "╞═════════════════════════════════╪═════════════════════════════════╡\n",
       "│ Girls Ballet Tutu Neon Pink     ┆ High quality 3 layer ballet tu… │\n",
       "│ Adult Ballet Tutu Yellow        ┆ null                            │\n",
       "│ The Way Things Work: An Illust… ┆ null                            │\n",
       "│ Mog's Kittens                   ┆ Judith Kerr&#8217;s best&#8211… │\n",
       "│ Misty of Chincoteague           ┆ null                            │\n",
       "│ …                               ┆ …                               │\n",
       "│ null                            ┆ Enhance your gaming experience… │\n",
       "│ null                            ┆ Charge both of your PS4 contro… │\n",
       "│ Apache Paracord Type III 7 Str… ┆ null                            │\n",
       "│ Cont  Removable Paper Label     ┆ Continuous Length Removable Pa… │\n",
       "│ 1/2&quot;  Round Paper Labels   ┆ 0.5\" - Diameter - 1200 Label(s… │\n",
       "└─────────────────────────────────┴─────────────────────────────────┘"
      ]
     },
     "execution_count": 2,
     "metadata": {},
     "output_type": "execute_result"
    }
   ],
   "source": [
    "\"\"\"\n",
    "Read the CSV file using polars.\n",
    "\"\"\"\n",
    "\n",
    "import polars as pl\n",
    "\n",
    "df = pl.read_csv(\"datasets/trn_output.csv\")\n",
    "df"
   ]
  },
  {
   "cell_type": "code",
   "execution_count": 3,
   "metadata": {},
   "outputs": [],
   "source": [
    "\"\"\"\n",
    "Remove rows where the Title or Content is null/empty.\n",
    "Save the cleaned data into another CSV.\n",
    "\"\"\"\n",
    "\n",
    "df_filtered = df.filter(\n",
    "    pl.col('content').is_not_null() & \n",
    "    pl.col('title').is_not_null() &  \n",
    "    (pl.col('content') != '') & \n",
    "    (pl.col('title') != '')\n",
    ")\n",
    "\n",
    "df_filtered.write_csv('datasets/trn_output_clean.csv')"
   ]
  },
  {
   "cell_type": "code",
   "execution_count": 7,
   "metadata": {},
   "outputs": [
    {
     "name": "stdout",
     "output_type": "stream",
     "text": [
      "Size of the old dataset: 2248619\n",
      "Size of the new dataset: 1390403\n"
     ]
    }
   ],
   "source": [
    "\"\"\"\n",
    "Comparing old and new data.\n",
    "\"\"\"\n",
    "\n",
    "print(f\"Size of the old dataset: {len(df)}\")\n",
    "print(f\"Size of the new dataset: {len(df_filtered)}\")"
   ]
  },
  {
   "cell_type": "code",
   "execution_count": 5,
   "metadata": {},
   "outputs": [],
   "source": [
    "\"\"\"\n",
    "Optionally, save as parquet.\n",
    "\"\"\"\n",
    "df_filtered.write_parquet(\"datasets/trn_output_clean.parquet\")"
   ]
  }
 ],
 "metadata": {
  "kernelspec": {
   "display_name": ".venv",
   "language": "python",
   "name": "python3"
  },
  "language_info": {
   "codemirror_mode": {
    "name": "ipython",
    "version": 3
   },
   "file_extension": ".py",
   "mimetype": "text/x-python",
   "name": "python",
   "nbconvert_exporter": "python",
   "pygments_lexer": "ipython3",
   "version": "3.9.18"
  }
 },
 "nbformat": 4,
 "nbformat_minor": 2
}
