{
 "cells": [
  {
   "cell_type": "code",
   "execution_count": null,
   "metadata": {},
   "outputs": [],
   "source": [
    "\"\"\"\n",
    "This script is responsible for reading the datasets and labeling the images. \n",
    "The images are labeled according to their folder name. \n",
    "In this case, there are two folders: \"dangerous\" and \"safe\". \n",
    "The script reads all the images in the dataset and assigns the corresponding label, generating a csv file with the results.\n",
    "\"\"\""
   ]
  },
  {
   "cell_type": "code",
   "execution_count": 1,
   "metadata": {},
   "outputs": [],
   "source": [
    "import os\n",
    "import pandas as pd"
   ]
  },
  {
   "cell_type": "code",
   "execution_count": 5,
   "metadata": {},
   "outputs": [],
   "source": [
    "dataset_path = \"../dataset\"\n",
    "\n",
    "image_paths = []\n",
    "labels = []"
   ]
  },
  {
   "cell_type": "code",
   "execution_count": null,
   "metadata": {},
   "outputs": [],
   "source": [
    "for class_name in [\"dangerous\", \"safe\"]:\n",
    "    class_path = os.path.join(dataset_path, class_name)\n",
    "    \n",
    "    for filename in os.listdir(class_path):\n",
    "        if filename.endswith(('.jpg', '.png', '.jpeg')):\n",
    "            image_paths.append(os.path.join(class_path, filename))\n",
    "            labels.append(class_name)\n",
    "\n",
    "\n",
    "df = pd.DataFrame({\"filename\": image_paths, \"label\": labels})\n",
    "df.to_csv(\"image_labels.csv\", index=False)"
   ]
  },
  {
   "cell_type": "code",
   "execution_count": 8,
   "metadata": {},
   "outputs": [
    {
     "data": {
      "text/html": [
       "<div>\n",
       "<style scoped>\n",
       "    .dataframe tbody tr th:only-of-type {\n",
       "        vertical-align: middle;\n",
       "    }\n",
       "\n",
       "    .dataframe tbody tr th {\n",
       "        vertical-align: top;\n",
       "    }\n",
       "\n",
       "    .dataframe thead th {\n",
       "        text-align: right;\n",
       "    }\n",
       "</style>\n",
       "<table border=\"1\" class=\"dataframe\">\n",
       "  <thead>\n",
       "    <tr style=\"text-align: right;\">\n",
       "      <th></th>\n",
       "      <th>filename</th>\n",
       "      <th>label</th>\n",
       "    </tr>\n",
       "  </thead>\n",
       "  <tbody>\n",
       "    <tr>\n",
       "      <th>0</th>\n",
       "      <td>../dataset/dangerous/knife_365.jpg</td>\n",
       "      <td>dangerous</td>\n",
       "    </tr>\n",
       "    <tr>\n",
       "      <th>1</th>\n",
       "      <td>../dataset/dangerous/knife_371.jpg</td>\n",
       "      <td>dangerous</td>\n",
       "    </tr>\n",
       "    <tr>\n",
       "      <th>2</th>\n",
       "      <td>../dataset/dangerous/knife_359.jpg</td>\n",
       "      <td>dangerous</td>\n",
       "    </tr>\n",
       "    <tr>\n",
       "      <th>3</th>\n",
       "      <td>../dataset/dangerous/knife_167.jpg</td>\n",
       "      <td>dangerous</td>\n",
       "    </tr>\n",
       "    <tr>\n",
       "      <th>4</th>\n",
       "      <td>../dataset/dangerous/knife_173.jpg</td>\n",
       "      <td>dangerous</td>\n",
       "    </tr>\n",
       "    <tr>\n",
       "      <th>...</th>\n",
       "      <td>...</td>\n",
       "      <td>...</td>\n",
       "    </tr>\n",
       "    <tr>\n",
       "      <th>647</th>\n",
       "      <td>../dataset/safe/image85.jpg</td>\n",
       "      <td>safe</td>\n",
       "    </tr>\n",
       "    <tr>\n",
       "      <th>648</th>\n",
       "      <td>../dataset/safe/image46.jpg</td>\n",
       "      <td>safe</td>\n",
       "    </tr>\n",
       "    <tr>\n",
       "      <th>649</th>\n",
       "      <td>../dataset/safe/image3.jpg</td>\n",
       "      <td>safe</td>\n",
       "    </tr>\n",
       "    <tr>\n",
       "      <th>650</th>\n",
       "      <td>../dataset/safe/image111.jpg</td>\n",
       "      <td>safe</td>\n",
       "    </tr>\n",
       "    <tr>\n",
       "      <th>651</th>\n",
       "      <td>../dataset/safe/image307.jpg</td>\n",
       "      <td>safe</td>\n",
       "    </tr>\n",
       "  </tbody>\n",
       "</table>\n",
       "<p>652 rows × 2 columns</p>\n",
       "</div>"
      ],
      "text/plain": [
       "                               filename      label\n",
       "0    ../dataset/dangerous/knife_365.jpg  dangerous\n",
       "1    ../dataset/dangerous/knife_371.jpg  dangerous\n",
       "2    ../dataset/dangerous/knife_359.jpg  dangerous\n",
       "3    ../dataset/dangerous/knife_167.jpg  dangerous\n",
       "4    ../dataset/dangerous/knife_173.jpg  dangerous\n",
       "..                                  ...        ...\n",
       "647         ../dataset/safe/image85.jpg       safe\n",
       "648         ../dataset/safe/image46.jpg       safe\n",
       "649          ../dataset/safe/image3.jpg       safe\n",
       "650        ../dataset/safe/image111.jpg       safe\n",
       "651        ../dataset/safe/image307.jpg       safe\n",
       "\n",
       "[652 rows x 2 columns]"
      ]
     },
     "execution_count": 8,
     "metadata": {},
     "output_type": "execute_result"
    }
   ],
   "source": [
    "df"
   ]
  }
 ],
 "metadata": {
  "kernelspec": {
   "display_name": ".venv",
   "language": "python",
   "name": "python3"
  },
  "language_info": {
   "codemirror_mode": {
    "name": "ipython",
    "version": 3
   },
   "file_extension": ".py",
   "mimetype": "text/x-python",
   "name": "python",
   "nbconvert_exporter": "python",
   "pygments_lexer": "ipython3",
   "version": "3.9.18"
  }
 },
 "nbformat": 4,
 "nbformat_minor": 2
}
