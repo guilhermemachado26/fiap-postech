{
 "cells": [
  {
   "cell_type": "code",
   "execution_count": null,
   "metadata": {},
   "outputs": [],
   "source": [
    "\"\"\"\n",
    "This script is responsible for reading the datasets and labeling the images. \n",
    "The images are labeled according to their folder name. \n",
    "In this case, there are two folders: \"dangerous\" and \"safe\". \n",
    "The script reads all the images in the dataset and assigns the corresponding label, generating a csv file with the results.\n",
    "\"\"\""
   ]
  },
  {
   "cell_type": "code",
   "execution_count": 5,
   "metadata": {},
   "outputs": [],
   "source": [
    "import os\n",
    "import pandas as pd"
   ]
  },
  {
   "cell_type": "code",
   "execution_count": 6,
   "metadata": {},
   "outputs": [],
   "source": [
    "dataset_path = \"dataset\"\n",
    "\n",
    "image_paths = []\n",
    "labels = []"
   ]
  },
  {
   "cell_type": "code",
   "execution_count": 7,
   "metadata": {},
   "outputs": [],
   "source": [
    "for class_name in [\"safe\", \"dangerous\"]:\n",
    "    class_path = os.path.join(dataset_path, class_name)\n",
    "    \n",
    "    for filename in os.listdir(class_path):\n",
    "        if filename.endswith(('.jpg', '.png', '.jpeg')):\n",
    "            image_paths.append(os.path.join(class_path, filename))\n",
    "            labels.append(class_name)\n",
    "\n",
    "\n",
    "df = pd.DataFrame({\"filename\": image_paths, \"label\": labels})\n",
    "df.to_csv(\"image_labels.csv\", index=False)"
   ]
  }
 ],
 "metadata": {
  "kernelspec": {
   "display_name": ".venv",
   "language": "python",
   "name": "python3"
  },
  "language_info": {
   "codemirror_mode": {
    "name": "ipython",
    "version": 3
   },
   "file_extension": ".py",
   "mimetype": "text/x-python",
   "name": "python",
   "nbconvert_exporter": "python",
   "pygments_lexer": "ipython3",
   "version": "3.8.19"
  }
 },
 "nbformat": 4,
 "nbformat_minor": 2
}
